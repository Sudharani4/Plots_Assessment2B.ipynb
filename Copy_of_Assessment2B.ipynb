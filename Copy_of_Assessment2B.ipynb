{
  "cells": [
    {
      "cell_type": "markdown",
      "metadata": {
        "id": "view-in-github",
        "colab_type": "text"
      },
      "source": [
        "<a href=\"https://colab.research.google.com/github/Sudharani4/Plots_Assessment2B.ipynb/blob/main/Copy_of_Assessment2B.ipynb\" target=\"_parent\"><img src=\"https://colab.research.google.com/assets/colab-badge.svg\" alt=\"Open In Colab\"/></a>"
      ]
    },
    {
      "cell_type": "markdown",
      "metadata": {
        "id": "jbLNEEdD3QMw"
      },
      "source": [
        "###### Assessment"
      ]
    },
    {
      "cell_type": "markdown",
      "metadata": {
        "id": "oD7_Cia43QM8"
      },
      "source": [
        "###### I am going to provide two .csv files , you are supposed to work on them and have to provide solutions to the following problems"
      ]
    },
    {
      "cell_type": "markdown",
      "metadata": {
        "id": "wS2CgIoJ3QM9"
      },
      "source": [
        "###### import necessary libraries"
      ]
    },
    {
      "cell_type": "code",
      "execution_count": null,
      "metadata": {
        "id": "Qc848wYx3QM-"
      },
      "outputs": [],
      "source": [
        "import pandas as pd\n",
        "from matplotlib import pyplot as plt\n",
        "import numpy as np\n",
        "           "
      ]
    },
    {
      "cell_type": "markdown",
      "metadata": {
        "id": "FX4-Hyiq3QM_"
      },
      "source": [
        "###### merge those two csv files (after getting as dataframes, get them as a single dataframe)"
      ]
    },
    {
      "cell_type": "code",
      "execution_count": null,
      "metadata": {
        "id": "nNq7-UqF3QNA"
      },
      "outputs": [],
      "source": [
        "import pandas as pd\n",
        "df1=pd.read_csv('college_1.csv')\n",
        "print(df1.head())\n",
        "\n",
        "df2=pd.read_csv('college_2.csv')\n",
        "print(df2.head())\n",
        "\n",
        "data = pd.concat([df1, df2], ignore_index=True, axis= 0)\n",
        "print(data)"
      ]
    },
    {
      "cell_type": "markdown",
      "metadata": {
        "id": "GeSWND2G3QNB"
      },
      "source": [
        "###### Take each csv file , split that csv file into multiple categories (example csv files are added in the repo) \n"
      ]
    },
    {
      "cell_type": "markdown",
      "metadata": {
        "id": "P1N-xvXv3QND"
      },
      "source": [
        "###### consider if the codekata score exceeds 15000 points(present week) then make a csv on those observations as Exceeded expectations.csv\n"
      ]
    },
    {
      "cell_type": "markdown",
      "metadata": {
        "id": "vMyLYAbn3QNE"
      },
      "source": [
        "###### if  10000<codekata score<15000   (Reached_expectations.csv)\n",
        "\n"
      ]
    },
    {
      "cell_type": "markdown",
      "metadata": {
        "id": "eIMZLJ6u3QNF"
      },
      "source": [
        "###### if  7000<codekata score<10000   (Needs_Improvement.csv)\n"
      ]
    },
    {
      "cell_type": "markdown",
      "metadata": {
        "id": "uJ---OZF3QNG"
      },
      "source": [
        "###### if  codekate score < 7000        (Unsatisfactory.csv)"
      ]
    },
    {
      "cell_type": "code",
      "execution_count": null,
      "metadata": {
        "id": "mAxSz7N83QNH"
      },
      "outputs": [],
      "source": [
        "import pandas as pd\n",
        "df1=pd.DataFrame()\n",
        "\n",
        "df1.to_csv(\"Exceeded expectations.csv\")\n",
        "df1.to_csv(\"Reached_expectations.csv\")\n",
        "df1.to_csv(\"Needs_Improvement.csv\")\n",
        "df1.to_csv(\"Unsatisfactory.csv\")\n",
        "score = int(input(\"enter CodeKata_Score:  \"))\n",
        "if score >= 15000:\n",
        "    print(\"Exceeded expectations\")\n",
        "    \n",
        "elif 10000 < score < 15000:\n",
        "    print(\"Reached_expectations\")\n",
        "\n",
        "if 7000 < score < 10000:\n",
        "    print(\"Needs_Improvement\")\n",
        "    \n",
        "if score < 7000:   \n",
        "    print(\"Unsatisfactory\")"
      ]
    },
    {
      "cell_type": "code",
      "execution_count": null,
      "metadata": {
        "id": "4ukxl5CL3QNI"
      },
      "outputs": [],
      "source": []
    },
    {
      "cell_type": "markdown",
      "metadata": {
        "id": "LmtNWOZ53QNK"
      },
      "source": [
        "###### Average of previous week geekions vs this week geekions (i.e Previous Geekions vs CodeKata Score)"
      ]
    },
    {
      "cell_type": "code",
      "execution_count": null,
      "metadata": {
        "id": "jP8XVtA63QNK"
      },
      "outputs": [],
      "source": [
        "import pandas as pd\n",
        "df=pd.read_csv('college_1.csv')\n",
        "print(df.columns)\n",
        "grouped_data=df.groupby(['Previous Geekions','CodeKata Score'])\n",
        "\n",
        "for group in grouped_data:\n",
        "    print(group[0],group[1]) "
      ]
    },
    {
      "cell_type": "markdown",
      "metadata": {
        "id": "l9kZam503QNL"
      },
      "source": [
        "###### No of students participated "
      ]
    },
    {
      "cell_type": "code",
      "execution_count": null,
      "metadata": {
        "id": "KBu36RUc3QNL"
      },
      "outputs": [],
      "source": [
        "import pandas as pd\n",
        "df=pd.read_csv('college_1.csv')\n",
        "print(df.columns)"
      ]
    },
    {
      "cell_type": "markdown",
      "metadata": {
        "id": "AcUapmUb3QNM"
      },
      "source": [
        "###### #Average completion of python course or my_sql or python english or computational thinking"
      ]
    },
    {
      "cell_type": "code",
      "execution_count": null,
      "metadata": {
        "id": "_AltWtWA3QNM"
      },
      "outputs": [],
      "source": []
    },
    {
      "cell_type": "markdown",
      "metadata": {
        "id": "YAUVmexP3QNM"
      },
      "source": [
        "###### rising star of the week (top 3 candidate who performed well in that particular week)"
      ]
    },
    {
      "cell_type": "code",
      "execution_count": null,
      "metadata": {
        "id": "AvVZgqRn3QNN"
      },
      "outputs": [],
      "source": [
        "import matplotlib.pyplot as plt\n",
        " \n",
        "x=['Dharani', 'Jeevitha', 'Hemavathi','Mugunthan']\n",
        " \n",
        "\n",
        "y=[24500, 21740, 19680, 10610]\n",
        "plt.bar(x, y)\n",
        "\n",
        "plt.xlabel(\"Names of the Students\")\n",
        " \n",
        "\n",
        "plt.ylabel(\"geekions\")  \n",
        "plt.title(\"rising star of the week\")\n",
        "plt.show()"
      ]
    },
    {
      "cell_type": "markdown",
      "metadata": {
        "id": "_iWkJcd-3QNN"
      },
      "source": [
        "###### Shining stars of the week (top 3 candidates who has highest geekions)"
      ]
    },
    {
      "cell_type": "code",
      "execution_count": 3,
      "metadata": {
        "id": "KyTRhE_T3QNO",
        "colab": {
          "base_uri": "https://localhost:8080/",
          "height": 295
        },
        "outputId": "1eaeff8b-9eef-44b8-e321-0c574f2ffbb0"
      },
      "outputs": [
        {
          "output_type": "display_data",
          "data": {
            "text/plain": [
              "<Figure size 432x288 with 1 Axes>"
            ],
            "image/png": "[encoded data removed]"
          },
          "metadata": {
            "needs_background": "light"
          }
        }
      ],
      "source": [
        "\n",
        "import matplotlib.pyplot as plt\n",
        " \n",
        "x=['Dharani', 'Jeevitha', 'Hemavathi','Mugunthan']\n",
        " \n",
        "\n",
        "y=[24500, 21740, 19680, 10610]\n",
        "plt.bar(x, y)\n",
        "\n",
        "plt.xlabel(\"Names of the Students\")\n",
        " \n",
        "\n",
        "plt.ylabel(\"geekions\")  \n",
        "plt.title(\"Shining stars of the week\")\n",
        "plt.show()"
      ]
    },
    {
      "cell_type": "markdown",
      "metadata": {
        "id": "RZ8BDfXD3QNO"
      },
      "source": [
        "###### Department wise codekata performence (pie chart)"
      ]
    },
    {
      "cell_type": "code",
      "execution_count": null,
      "metadata": {
        "id": "6YJZc3xI3QNO",
        "colab": {
          "base_uri": "https://localhost:8080/",
          "height": 411
        },
        "outputId": "2c9a1ed0-9768-498a-db4b-c7c40366e18a"
      },
      "outputs": [
        {
          "output_type": "display_data",
          "data": {
            "text/plain": [
              "<Figure size 720x504 with 1 Axes>"
            ],
            "image/png": "[encoded data removed]"
          },
          "metadata": {}
        }
      ],
      "source": [
        "\n",
        "# Import libraries\n",
        "from matplotlib import pyplot as plt\n",
        "import numpy as np\n",
        " \n",
        "\n",
        "Departments = ['Computer Science','Electronics and Communication Engineering','Electronics and Electrical Engineering']\n",
        " \n",
        "Code_Score = [24500, 7750, 260,]\n",
        " \n",
        "\n",
        "fig = plt.figure(figsize =(10, 7))\n",
        "plt.pie(Code_Score, labels = Departments)\n",
        " \n",
        "\n",
        "plt.show()"
      ]
    },
    {
      "cell_type": "markdown",
      "metadata": {
        "id": "SxNOgdTX3QNP"
      },
      "source": [
        "###### Department wise toppers (horizantal bar graph or any visual representations of your choice)"
      ]
    },
    {
      "cell_type": "code",
      "execution_count": null,
      "metadata": {
        "id": "BgJJlEEE3QNP",
        "colab": {
          "base_uri": "https://localhost:8080/",
          "height": 295
        },
        "outputId": "94b4f0ac-6104-43d4-d4d2-28a5cd6948df"
      },
      "outputs": [
        {
          "output_type": "display_data",
          "data": {
            "text/plain": [
              "<Figure size 432x288 with 1 Axes>"
            ],
            "image/png": "[encoded data removed]"
          },
          "metadata": {
            "needs_background": "light"
          }
        }
      ],
      "source": [
        "import matplotlib.pyplot as plt\n",
        "y=['Dharani', 'Kalairasan', 'Parvathi']\n",
        " \n",
        "\n",
        "x= [22000,7780, 260 ]\n",
        "plt.barh(y, x)\n",
        " \n",
        "\n",
        "plt.ylabel(\"Name\")\n",
        " \n",
        "plt.xlabel(\"Department wise Scores\")\n",
        "plt.title(\"Department wise toppers\")\n",
        "plt.show()"
      ]
    },
    {
      "cell_type": "code",
      "execution_count": null,
      "metadata": {
        "id": "peQLIkAT3QNP"
      },
      "outputs": [],
      "source": []
    },
    {
      "cell_type": "code",
      "execution_count": null,
      "metadata": {
        "id": "-SpDkwYT3QNQ"
      },
      "outputs": [],
      "source": []
    },
    {
      "cell_type": "code",
      "execution_count": null,
      "metadata": {
        "id": "YxKO00U93QNQ"
      },
      "outputs": [],
      "source": []
    }
  ],
  "metadata": {
    "kernelspec": {
      "display_name": "Python 3",
      "language": "python",
      "name": "python3"
    },
    "language_info": {
      "codemirror_mode": {
        "name": "ipython",
        "version": 3
      },
      "file_extension": ".py",
      "mimetype": "text/x-python",
      "name": "python",
      "nbconvert_exporter": "python",
      "pygments_lexer": "ipython3",
      "version": "3.8.3"
    },
    "colab": {
      "provenance": [],
      "include_colab_link": true
    }
  },
  "nbformat": 4,
  "nbformat_minor": 0
}